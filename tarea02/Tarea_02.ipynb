{
  "cells": [
    {
      "cell_type": "markdown",
      "metadata": {
        "id": "8DdJ98nf92ZO"
      },
      "source": [
        "# Problema 1"
      ]
    },
    {
      "cell_type": "code",
      "execution_count": null,
      "metadata": {
        "colab": {
          "base_uri": "https://localhost:8080/"
        },
        "id": "fKJ66LS_5Jny",
        "outputId": "b479fc22-e21d-4f31-a921-4f8fd461c316"
      },
      "outputs": [
        {
          "name": "stdout",
          "output_type": "stream",
          "text": [
            "1\n",
            "2\n",
            "3\n",
            "4\n",
            "5\n",
            "6\n",
            "7\n",
            "8\n",
            "9\n",
            "10\n",
            "11\n",
            "12\n",
            "13\n",
            "14\n",
            "15\n",
            "16\n",
            "17\n",
            "18\n",
            "19\n",
            "20\n",
            "21\n",
            "22\n",
            "23\n",
            "24\n",
            "25\n",
            "26\n",
            "27\n",
            "28\n",
            "29\n",
            "30\n",
            "31\n",
            "32\n",
            "33\n",
            "34\n",
            "35\n",
            "36\n",
            "37\n",
            "38\n",
            "39\n",
            "40\n",
            "41\n",
            "42\n",
            "43\n",
            "44\n",
            "45\n",
            "46\n",
            "47\n",
            "48\n",
            "49\n",
            "50\n",
            "51\n",
            "52\n",
            "53\n",
            "54\n",
            "55\n",
            "56\n",
            "57\n",
            "58\n",
            "59\n",
            "60\n",
            "61\n",
            "62\n",
            "63\n",
            "64\n",
            "65\n",
            "66\n",
            "67\n",
            "68\n",
            "69\n",
            "70\n",
            "71\n",
            "72\n",
            "73\n",
            "74\n",
            "75\n",
            "76\n",
            "77\n",
            "78\n",
            "79\n",
            "80\n",
            "81\n",
            "82\n",
            "83\n",
            "84\n",
            "85\n",
            "86\n",
            "87\n",
            "88\n",
            "89\n",
            "90\n",
            "91\n",
            "92\n",
            "93\n",
            "94\n",
            "95\n",
            "96\n",
            "97\n",
            "98\n",
            "99\n",
            "100\n"
          ]
        }
      ],
      "source": [
        "# Hacer un programa que imprima los numeros del 1 al 100. \n",
        "for i in range (1,101):\n",
        "    print(i)"
      ]
    },
    {
      "cell_type": "markdown",
      "metadata": {
        "id": "kWkvLUWz99bf"
      },
      "source": [
        "# Problema 2"
      ]
    },
    {
      "cell_type": "code",
      "execution_count": null,
      "metadata": {
        "colab": {
          "base_uri": "https://localhost:8080/"
        },
        "id": "upurHAE_5Oae",
        "outputId": "4bc23ab4-2f2d-4218-da4b-c454c2ef2352"
      },
      "outputs": [
        {
          "name": "stdout",
          "output_type": "stream",
          "text": [
            "3\n",
            "6\n",
            "9\n",
            "12\n",
            "15\n",
            "18\n",
            "21\n",
            "24\n",
            "27\n",
            "30\n",
            "33\n",
            "36\n",
            "39\n",
            "42\n",
            "45\n",
            "48\n",
            "51\n",
            "54\n",
            "57\n",
            "60\n",
            "63\n",
            "66\n",
            "69\n",
            "72\n",
            "75\n",
            "78\n",
            "81\n",
            "84\n",
            "87\n",
            "90\n",
            "93\n",
            "96\n",
            "99\n"
          ]
        }
      ],
      "source": [
        "for i in range (1,101):\n",
        "    if i%3==0:\n",
        "        print(i)"
      ]
    },
    {
      "cell_type": "markdown",
      "metadata": {
        "id": "1ymzJ7Mo-Ehn"
      },
      "source": [
        "# Problema 3"
      ]
    },
    {
      "cell_type": "code",
      "execution_count": null,
      "metadata": {
        "colab": {
          "base_uri": "https://localhost:8080/"
        },
        "id": "JPRS9ihI5Yxi",
        "outputId": "38887ad2-a428-4280-b0cd-8c6f827f76c5"
      },
      "outputs": [
        {
          "name": "stdout",
          "output_type": "stream",
          "text": [
            "menor a 100\n"
          ]
        }
      ],
      "source": [
        "# Leer dos numeros\n",
        "n1 = 2\n",
        "n2 = 3\n",
        "\n",
        "# Sumar\n",
        "suma = n1 + n2\n",
        "resultado = \"\"\n",
        "\n",
        "if suma < 100:\n",
        "  resultado = \"menor a 100\"\n",
        "else:\n",
        "  if suma > 100 and suma <150:\n",
        "    resultado = \"mayor a 100\"\n",
        "  else:\n",
        "    resultado = \"mayor a 150\"\n",
        "\n",
        "print(resultado)"
      ]
    },
    {
      "cell_type": "markdown",
      "metadata": {
        "id": "KiW0apWeEhGp"
      },
      "source": [
        "# Problema 4"
      ]
    },
    {
      "cell_type": "code",
      "execution_count": null,
      "metadata": {
        "colab": {
          "base_uri": "https://localhost:8080/"
        },
        "id": "yDMViNJ85bsv",
        "outputId": "e8dd24dc-3770-4306-b798-3a8ea52d9881"
      },
      "outputs": [
        {
          "name": "stdout",
          "output_type": "stream",
          "text": [
            "eres mayor de edad y te gusta programar\n"
          ]
        }
      ],
      "source": [
        "# Leer edad y si le gusta programar\n",
        "edad = 25\n",
        "le_gusta_programar = True\n",
        "\n",
        "# Verificar si la edad es mayor o igual a 25 y si le gusta programar\n",
        "\n",
        "if edad >= 18 and le_gusta_programar:\n",
        "  print(\"eres mayor de edad y te gusta programar\")\n",
        "else:\n",
        "  print(\"no eres mayor de edad o no te gusta programar\")"
      ]
    }
  ],
  "metadata": {
    "colab": {
      "provenance": []
    },
    "kernelspec": {
      "display_name": "Python 3",
      "name": "python3"
    },
    "language_info": {
      "name": "python"
    }
  },
  "nbformat": 4,
  "nbformat_minor": 0
}
